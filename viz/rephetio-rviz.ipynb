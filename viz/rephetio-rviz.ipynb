{
 "cells": [
  {
   "cell_type": "markdown",
   "metadata": {},
   "source": [
    "# Visualize cumulative contibution by user over time for Project Rephetio"
   ]
  },
  {
   "cell_type": "code",
   "execution_count": 1,
   "metadata": {
    "collapsed": true
   },
   "outputs": [],
   "source": [
    "library(magrittr)"
   ]
  },
  {
   "cell_type": "markdown",
   "metadata": {},
   "source": [
    "## Read datasets"
   ]
  },
  {
   "cell_type": "code",
   "execution_count": 2,
   "metadata": {
    "collapsed": false
   },
   "outputs": [
    {
     "name": "stderr",
     "output_type": "stream",
     "text": [
      "Parsed with column specification:\n",
      "cols(\n",
      "  first_name = col_character(),\n",
      "  last_name = col_character(),\n",
      "  profile_id = col_integer(),\n",
      "  project = col_character(),\n",
      "  url = col_character(),\n",
      "  username = col_character()\n",
      ")\n",
      "Parsed with column specification:\n",
      "cols(\n",
      "  comment_id = col_integer(),\n",
      "  profile_id = col_integer(),\n",
      "  project = col_character(),\n",
      "  published = col_datetime(format = \"\"),\n",
      "  thread_id = col_integer(),\n",
      "  url = col_character(),\n",
      "  word_count = col_integer(),\n",
      "  character_count = col_integer()\n",
      ")\n",
      "Parsed with column specification:\n",
      "cols(\n",
      "  added = col_datetime(format = \"\"),\n",
      "  comment_id = col_integer(),\n",
      "  note_id = col_integer(),\n",
      "  profile_id = col_integer(),\n",
      "  project = col_character(),\n",
      "  url = col_character(),\n",
      "  word_count = col_integer(),\n",
      "  character_count = col_integer()\n",
      ")\n"
     ]
    }
   ],
   "source": [
    "profile_df = readr::read_tsv('../process/table/profiles.tsv') %>%\n",
    "  dplyr::select(project, profile_id, username, first_name, last_name)\n",
    "comment_df = readr::read_tsv('../process/table/comments.tsv') %>%\n",
    "  dplyr::mutate(content_type = 'comment')\n",
    "note_df = readr::read_tsv('../process/table/notes.tsv') %>%\n",
    "  dplyr::mutate(content_type = 'note')"
   ]
  },
  {
   "cell_type": "markdown",
   "metadata": {},
   "source": [
    "## Combine comments and notes into a single dataframe"
   ]
  },
  {
   "cell_type": "code",
   "execution_count": 3,
   "metadata": {
    "collapsed": false
   },
   "outputs": [
    {
     "name": "stderr",
     "output_type": "stream",
     "text": [
      "Joining, by = c(\"profile_id\", \"project\")\n"
     ]
    }
   ],
   "source": [
    "content_df = dplyr::bind_rows(comment_df, note_df) %>%\n",
    "  dplyr::inner_join(profile_df) %>%\n",
    "  dplyr::mutate(date = dplyr::coalesce(published, added)) %>%\n",
    "  dplyr::select(-comment_id, -note_id, -published, -added) %>%\n",
    "  dplyr::filter(project == 'rephetio') %>%\n",
    "  dplyr::arrange(date)"
   ]
  },
  {
   "cell_type": "markdown",
   "metadata": {},
   "source": [
    "## Create a dataframe where each row is the cumulative contribution of a user at a given datetime"
   ]
  },
  {
   "cell_type": "code",
   "execution_count": 4,
   "metadata": {
    "collapsed": false
   },
   "outputs": [
    {
     "name": "stderr",
     "output_type": "stream",
     "text": [
      "Joining, by = c(\"username\", \"date\")\n"
     ]
    },
    {
     "data": {
      "text/html": [
       "<table>\n",
       "<thead><tr><th scope=col>username</th><th scope=col>date</th><th scope=col>cum_words</th><th scope=col>cum_chars</th><th scope=col>cum_chars_trans</th></tr></thead>\n",
       "<tbody>\n",
       "\t<tr><td>vsmalladi          </td><td>2017-02-02 00:55:24</td><td>320                </td><td>2008               </td><td>44.81071           </td></tr>\n",
       "\t<tr><td>vsmalladi          </td><td>2017-02-02 01:55:24</td><td>320                </td><td>2008               </td><td>44.81071           </td></tr>\n",
       "</tbody>\n",
       "</table>\n"
      ],
      "text/latex": [
       "\\begin{tabular}{r|lllll}\n",
       " username & date & cum\\_words & cum\\_chars & cum\\_chars\\_trans\\\\\n",
       "\\hline\n",
       "\t vsmalladi           & 2017-02-02 00:55:24 & 320                 & 2008                & 44.81071           \\\\\n",
       "\t vsmalladi           & 2017-02-02 01:55:24 & 320                 & 2008                & 44.81071           \\\\\n",
       "\\end{tabular}\n"
      ],
      "text/plain": [
       "  username  date                cum_words cum_chars cum_chars_trans\n",
       "1 vsmalladi 2017-02-02 00:55:24 320       2008      44.81071       \n",
       "2 vsmalladi 2017-02-02 01:55:24 320       2008      44.81071       "
      ]
     },
     "metadata": {},
     "output_type": "display_data"
    }
   ],
   "source": [
    "cumulative_df = content_df %>%\n",
    "  dplyr::group_by(username) %>%\n",
    "  dplyr::mutate(cum_words = cumsum(word_count)) %>% \n",
    "  dplyr::mutate(cum_chars = cumsum(character_count)) %>%\n",
    "  dplyr::ungroup() %>%\n",
    "  dplyr::select(username, date, cum_words, cum_chars)\n",
    "\n",
    "min_date = min(cumulative_df$date)\n",
    "max_date = max(cumulative_df$date)\n",
    "\n",
    "six_months = lubridate::duration(6, 'months')\n",
    "even_date_df = dplyr::data_frame(username = 'dhimmel', date = seq(min_date - six_months, max_date + six_months, by='hours'))\n",
    "\n",
    "cumulative_df = dplyr::bind_rows(\n",
    "  cumulative_df %$%\n",
    "    dplyr::data_frame(username = unique(username), date=min_date - six_months, cum_words=0, cum_chars=0),\n",
    "  cumulative_df,\n",
    "  cumulative_df %>%\n",
    "    dplyr::group_by(username) %>%\n",
    "    dplyr::summarize(date=max_date + six_months, cum_words = max(cum_words), cum_chars = max(cum_chars))\n",
    "  ) %>%\n",
    "  dplyr::full_join(even_date_df) %>%\n",
    "  tidyr::complete(username, date) %>%\n",
    "  tidyr::fill(username, cum_words, cum_chars) %>%\n",
    "  dplyr::filter(date %in% even_date_df$date) %>% \n",
    "  dplyr::mutate(cum_chars_trans = cum_chars ^ 0.5)\n",
    "\n",
    "cumulative_df %>% tail(2) "
   ]
  },
  {
   "cell_type": "markdown",
   "metadata": {},
   "source": [
    "## Create a dataframe of users"
   ]
  },
  {
   "cell_type": "code",
   "execution_count": 5,
   "metadata": {
    "collapsed": false
   },
   "outputs": [
    {
     "data": {
      "text/html": [
       "<table>\n",
       "<thead><tr><th scope=col>username</th><th scope=col>first_name</th><th scope=col>last_name</th><th scope=col>first_date</th><th scope=col>total_chars</th><th scope=col>total_words</th><th scope=col>total_chars_trans</th><th scope=col>y_position</th><th scope=col>color</th></tr></thead>\n",
       "<tbody>\n",
       "\t<tr><td>dhimmel            </td><td>Daniel             </td><td>Himmelstein        </td><td>2015-01-14 05:55:24</td><td>445327             </td><td>70199              </td><td>667.32826          </td><td>333.6641           </td><td>#E41A1C            </td></tr>\n",
       "\t<tr><td>jspauld            </td><td>Jesse              </td><td>Spaulding          </td><td>2015-01-16 10:18:57</td><td>  2485             </td><td>  465              </td><td> 49.84977          </td><td>692.2531           </td><td>#C32D39            </td></tr>\n",
       "\t<tr><td>caseygreene        </td><td>Casey              </td><td>Greene             </td><td>2015-01-22 20:43:07</td><td>  6161             </td><td> 1081              </td><td> 78.49204          </td><td>756.4240           </td><td>#A24057            </td></tr>\n",
       "</tbody>\n",
       "</table>\n"
      ],
      "text/latex": [
       "\\begin{tabular}{r|lllllllll}\n",
       " username & first\\_name & last\\_name & first\\_date & total\\_chars & total\\_words & total\\_chars\\_trans & y\\_position & color\\\\\n",
       "\\hline\n",
       "\t dhimmel             & Daniel              & Himmelstein         & 2015-01-14 05:55:24 & 445327              & 70199               & 667.32826           & 333.6641            & \\#E41A1C          \\\\\n",
       "\t jspauld             & Jesse               & Spaulding           & 2015-01-16 10:18:57 &   2485              &   465               &  49.84977           & 692.2531            & \\#C32D39          \\\\\n",
       "\t caseygreene         & Casey               & Greene              & 2015-01-22 20:43:07 &   6161              &  1081               &  78.49204           & 756.4240            & \\#A24057          \\\\\n",
       "\\end{tabular}\n"
      ],
      "text/plain": [
       "  username    first_name last_name   first_date          total_chars\n",
       "1 dhimmel     Daniel     Himmelstein 2015-01-14 05:55:24 445327     \n",
       "2 jspauld     Jesse      Spaulding   2015-01-16 10:18:57   2485     \n",
       "3 caseygreene Casey      Greene      2015-01-22 20:43:07   6161     \n",
       "  total_words total_chars_trans y_position color  \n",
       "1 70199       667.32826         333.6641   #E41A1C\n",
       "2   465        49.84977         692.2531   #C32D39\n",
       "3  1081        78.49204         756.4240   #A24057"
      ]
     },
     "metadata": {},
     "output_type": "display_data"
    }
   ],
   "source": [
    "get_colors = suppressWarnings(colorRampPalette(RColorBrewer::brewer.pal(12, 'Set1')))\n",
    "\n",
    "usage_df = content_df %>%\n",
    "  dplyr::group_by(username, first_name, last_name) %>%\n",
    "  dplyr::summarize(\n",
    "    first_date = min(date),\n",
    "    total_chars = sum(character_count),\n",
    "    total_words = sum(word_count),\n",
    "    total_chars_trans = total_chars ^ 0.5\n",
    "  ) %>%\n",
    "  dplyr::ungroup() %>%\n",
    "  dplyr::arrange(first_date) %>%\n",
    "  dplyr::mutate(y_position = cumsum(total_chars_trans) - total_chars_trans / 2) %>%\n",
    "  dplyr::mutate(color = get_colors(length(username)))\n",
    "\n",
    "usage_df$username = factor(usage_df$username, levels = usage_df$username)\n",
    "\n",
    "usage_df %>% head(3)"
   ]
  },
  {
   "cell_type": "markdown",
   "metadata": {},
   "source": [
    "## Create a smoothed dataframe of cumulative contribution"
   ]
  },
  {
   "cell_type": "code",
   "execution_count": 6,
   "metadata": {
    "collapsed": false
   },
   "outputs": [],
   "source": [
    "min_date_decimal = min(content_df$date) %>% lubridate::decimal_date()\n",
    "max_date_decimal = max(content_df$date) %>% lubridate::decimal_date()\n",
    "constant = nrow(even_date_df) / diff(lubridate::decimal_date(range(even_date_df$date)))\n",
    "\n",
    "densify = function(df) {\n",
    "  den = suppressWarnings(density(\n",
    "    df$date %>% lubridate::decimal_date(),\n",
    "    weights = df$cum_chars, bw=0.03,\n",
    "    from = min_date_decimal, to = max_date_decimal))\n",
    "  dplyr::data_frame(date = lubridate::date_decimal(den$x), cum_chars = den$y / constant) %>% return\n",
    "}\n",
    "\n",
    "smooth_df = cumulative_df %>%\n",
    "  dplyr::group_by(username) %>%\n",
    "  dplyr::do(densify(.)) %>%\n",
    "  dplyr::mutate(cum_chars_trans = cum_chars ^ 0.5)\n",
    "\n",
    "smooth_df$username = factor(smooth_df$username, levels = usage_df$username)\n",
    "\n",
    "smooth_df %<>% dplyr::arrange(username, date)"
   ]
  },
  {
   "cell_type": "markdown",
   "metadata": {},
   "source": [
    "## Plot contribution over time"
   ]
  },
  {
   "cell_type": "code",
   "execution_count": 7,
   "metadata": {
    "collapsed": false
   },
   "outputs": [],
   "source": [
    "label_df = usage_df %>%\n",
    "  dplyr::filter(total_chars >= 4000) %>%\n",
    "  dplyr::mutate(date = max_date) %>%\n",
    "  dplyr::mutate(name_label = sprintf('- %s %s', first_name, last_name)) %>%\n",
    "  dplyr::mutate(nchar_label = sprintf('%.1fK ', total_chars / 1000))"
   ]
  },
  {
   "cell_type": "code",
   "execution_count": 8,
   "metadata": {
    "collapsed": false
   },
   "outputs": [],
   "source": [
    "x_datetimes = seq(lubridate::make_datetime(2015, 1, 1), max_date, by = \"3 months\")\n",
    "light_black = '#282828'\n",
    "\n",
    "gg = smooth_df %>%\n",
    "  ggplot2::ggplot(ggplot2::aes(x = date)) +\n",
    "  ggplot2::geom_area(ggplot2::aes(y = cum_chars_trans, fill = username), \n",
    "            alpha = 0.9, size = 0.1, colour = \"grey95\") +\n",
    "  ggplot2::geom_text(data = label_df,\n",
    "    mapping = ggplot2::aes(y = y_position, label=name_label, color=username), size = 4, hjust = 0) +\n",
    "  ggplot2::geom_text(data = label_df,\n",
    "    mapping = ggplot2::aes(y = y_position, label=nchar_label), size = 4, hjust = 1, color=light_black) +\n",
    "  hetior::theme_dhimmel() +\n",
    "  ggplot2::theme_minimal() +\n",
    "  ggplot2::guides(colour = \"none\", fill = \"none\") +\n",
    "  ggplot2::scale_x_datetime(date_labels = '%b %Y', breaks = x_datetimes,\n",
    "    limits = c(min_date - lubridate::period(1, 'day'), max_date + (max_date - min_date) / 5.3)) +\n",
    "  ggplot2::scale_y_continuous(breaks = NULL, minor_breaks = NULL, labels = NULL, expand = c(0, 0)) +\n",
    "  ggplot2::scale_fill_manual(values = usage_df$color) + \n",
    "  ggplot2::scale_color_manual(values = label_df$color) + \n",
    "  ggplot2::theme(\n",
    "    axis.title.y = ggplot2::element_text(color = light_black, margin=ggplot2::margin(0,-9,0,0)),\n",
    "    axis.ticks.x = ggplot2::element_line(size = 0.4, color = light_black),\n",
    "    axis.text.x = ggplot2::element_text(color = light_black),\n",
    "    axis.ticks.length = grid::unit(0.1, \"cm\"),\n",
    "    panel.grid.major.x = ggplot2::element_line(colour = \"grey70\"),\n",
    "    panel.grid.minor.x = ggplot2::element_line(colour = \"grey98\")) +\n",
    "  ggplot2::labs(x = NULL, y = expression(sqrt(Total~Characters)))\n",
    "\n",
    "# Save image to file\n",
    "ggplot2::ggsave(gg, filename = 'rephetio-contribution.png', dpi = 300, width = 8, height = 4)\n",
    "ggplot2::ggsave(gg, filename = 'rephetio-contribution.pdf', width = 8, height = 4)"
   ]
  },
  {
   "cell_type": "markdown",
   "metadata": {},
   "source": [
    "## Summary statistics"
   ]
  },
  {
   "cell_type": "code",
   "execution_count": 9,
   "metadata": {
    "collapsed": false
   },
   "outputs": [
    {
     "data": {
      "text/html": [
       "43"
      ],
      "text/latex": [
       "43"
      ],
      "text/markdown": [
       "43"
      ],
      "text/plain": [
       "[1] 43"
      ]
     },
     "metadata": {},
     "output_type": "display_data"
    }
   ],
   "source": [
    "# Number of users\n",
    "nrow(usage_df)"
   ]
  },
  {
   "cell_type": "code",
   "execution_count": 10,
   "metadata": {
    "collapsed": false
   },
   "outputs": [
    {
     "data": {
      "text/html": [
       "641951"
      ],
      "text/latex": [
       "641951"
      ],
      "text/markdown": [
       "641951"
      ],
      "text/plain": [
       "[1] 641951"
      ]
     },
     "metadata": {},
     "output_type": "display_data"
    }
   ],
   "source": [
    "# Total number of characters\n",
    "sum(usage_df$total_chars)"
   ]
  },
  {
   "cell_type": "code",
   "execution_count": 11,
   "metadata": {
    "collapsed": false
   },
   "outputs": [
    {
     "data": {
      "text/html": [
       "102809"
      ],
      "text/latex": [
       "102809"
      ],
      "text/markdown": [
       "102809"
      ],
      "text/plain": [
       "[1] 102809"
      ]
     },
     "metadata": {},
     "output_type": "display_data"
    }
   ],
   "source": [
    "# Total number of words\n",
    "sum(usage_df$total_words)"
   ]
  },
  {
   "cell_type": "markdown",
   "metadata": {},
   "source": [
    "## Package information"
   ]
  },
  {
   "cell_type": "code",
   "execution_count": 12,
   "metadata": {
    "collapsed": false
   },
   "outputs": [
    {
     "data": {
      "text/plain": [
       "R version 3.3.1 (2016-06-21)\n",
       "Platform: x86_64-pc-linux-gnu (64-bit)\n",
       "Running under: Ubuntu 16.04 LTS\n",
       "\n",
       "locale:\n",
       " [1] LC_CTYPE=en_US.UTF-8       LC_NUMERIC=C              \n",
       " [3] LC_TIME=en_US.UTF-8        LC_COLLATE=en_US.UTF-8    \n",
       " [5] LC_MONETARY=en_US.UTF-8    LC_MESSAGES=en_US.UTF-8   \n",
       " [7] LC_PAPER=en_US.UTF-8       LC_NAME=C                 \n",
       " [9] LC_ADDRESS=C               LC_TELEPHONE=C            \n",
       "[11] LC_MEASUREMENT=en_US.UTF-8 LC_IDENTIFICATION=C       \n",
       "\n",
       "attached base packages:\n",
       "[1] stats     graphics  grDevices utils     datasets  methods   base     \n",
       "\n",
       "other attached packages:\n",
       "[1] magrittr_1.5\n",
       "\n",
       "loaded via a namespace (and not attached):\n",
       " [1] Rcpp_0.12.6        munsell_0.4.3      uuid_0.1-2         colorspace_1.2-6  \n",
       " [5] R6_2.1.2           plyr_1.8.4         stringr_1.0.0      dplyr_0.5.0       \n",
       " [9] tools_3.3.1        grid_3.3.1         gtable_0.2.0       DBI_0.4-1         \n",
       "[13] lazyeval_0.2.0     assertthat_0.1     digest_0.6.10      tibble_1.1        \n",
       "[17] IRdisplay_0.4.9000 hetior_0.0.0.9000  readr_1.0.0        RColorBrewer_1.1-2\n",
       "[21] ggplot2_2.1.0      repr_0.9           tidyr_0.5.1        IRkernel_0.6      \n",
       "[25] evaluate_0.9       pbdZMQ_0.2-3       stringi_1.1.1      scales_0.4.0      \n",
       "[29] jsonlite_1.0       lubridate_1.5.6   "
      ]
     },
     "metadata": {},
     "output_type": "display_data"
    }
   ],
   "source": [
    "sessionInfo()"
   ]
  }
 ],
 "metadata": {
  "anaconda-cloud": {},
  "kernelspec": {
   "display_name": "R 3.3",
   "language": "R",
   "name": "ir33"
  },
  "language_info": {
   "codemirror_mode": "r",
   "file_extension": ".r",
   "mimetype": "text/x-r-source",
   "name": "R",
   "pygments_lexer": "r",
   "version": "3.3.1"
  }
 },
 "nbformat": 4,
 "nbformat_minor": 0
}
