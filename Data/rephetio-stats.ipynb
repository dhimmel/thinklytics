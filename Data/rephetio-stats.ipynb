{
 "cells": [
  {
   "cell_type": "markdown",
   "metadata": {},
   "source": [
    "# Stats for the Rephetio project"
   ]
  },
  {
   "cell_type": "code",
   "execution_count": 1,
   "metadata": {
    "collapsed": true
   },
   "outputs": [],
   "source": [
    "import json\n",
    "import export\n",
    "import re\n",
    "\n",
    "import pandas"
   ]
  },
  {
   "cell_type": "markdown",
   "metadata": {},
   "source": [
    "## Retrieve export\n",
    "\n",
    "Uncomment to download the Rephetio export from Thinklab"
   ]
  },
  {
   "cell_type": "code",
   "execution_count": 2,
   "metadata": {
    "collapsed": true
   },
   "outputs": [],
   "source": [
    "# ! python export.py --project rephetio --output export/rephetio.json"
   ]
  },
  {
   "cell_type": "markdown",
   "metadata": {},
   "source": [
    "## Process export"
   ]
  },
  {
   "cell_type": "code",
   "execution_count": 3,
   "metadata": {
    "collapsed": false
   },
   "outputs": [
    {
     "data": {
      "text/plain": [
       "'2016-04-26T00:42:28.782606Z'"
      ]
     },
     "execution_count": 3,
     "metadata": {},
     "output_type": "execute_result"
    }
   ],
   "source": [
    "with open('exported/rephetio.json') as read_file:\n",
    "    export = json.load(read_file)\n",
    "export['retrieved']"
   ]
  },
  {
   "cell_type": "code",
   "execution_count": 4,
   "metadata": {
    "collapsed": false
   },
   "outputs": [
    {
     "data": {
      "text/plain": [
       "['comments', 'retrieved', 'threads', 'documents', 'profiles', 'notes']"
      ]
     },
     "execution_count": 4,
     "metadata": {},
     "output_type": "execute_result"
    }
   ],
   "source": [
    "list(export.keys())"
   ]
  },
  {
   "cell_type": "code",
   "execution_count": 5,
   "metadata": {
    "collapsed": false
   },
   "outputs": [
    {
     "data": {
      "text/html": [
       "<div>\n",
       "<table border=\"1\" class=\"dataframe\">\n",
       "  <thead>\n",
       "    <tr style=\"text-align: right;\">\n",
       "      <th></th>\n",
       "      <th>first_name</th>\n",
       "      <th>last_name</th>\n",
       "      <th>url</th>\n",
       "      <th>username</th>\n",
       "    </tr>\n",
       "  </thead>\n",
       "  <tbody>\n",
       "    <tr>\n",
       "      <th>0</th>\n",
       "      <td>Jesse</td>\n",
       "      <td>Spaulding</td>\n",
       "      <td>/u/jspauld</td>\n",
       "      <td>jspauld</td>\n",
       "    </tr>\n",
       "    <tr>\n",
       "      <th>1</th>\n",
       "      <td>Daniel</td>\n",
       "      <td>Himmelstein</td>\n",
       "      <td>/u/dhimmel</td>\n",
       "      <td>dhimmel</td>\n",
       "    </tr>\n",
       "  </tbody>\n",
       "</table>\n",
       "</div>"
      ],
      "text/plain": [
       "  first_name    last_name         url username\n",
       "0      Jesse    Spaulding  /u/jspauld  jspauld\n",
       "1     Daniel  Himmelstein  /u/dhimmel  dhimmel"
      ]
     },
     "execution_count": 5,
     "metadata": {},
     "output_type": "execute_result"
    }
   ],
   "source": [
    "profile_df = pandas.DataFrame(export['profiles'])\n",
    "profile_df.head(2)"
   ]
  },
  {
   "cell_type": "code",
   "execution_count": 6,
   "metadata": {
    "collapsed": false
   },
   "outputs": [
    {
     "data": {
      "text/html": [
       "<div>\n",
       "<table border=\"1\" class=\"dataframe\">\n",
       "  <thead>\n",
       "    <tr style=\"text-align: right;\">\n",
       "      <th></th>\n",
       "      <th>document</th>\n",
       "      <th>doi</th>\n",
       "      <th>doi_field</th>\n",
       "      <th>profile</th>\n",
       "      <th>published</th>\n",
       "      <th>subject</th>\n",
       "      <th>topic_field</th>\n",
       "      <th>url</th>\n",
       "      <th>views</th>\n",
       "    </tr>\n",
       "  </thead>\n",
       "  <tbody>\n",
       "    <tr>\n",
       "      <th>0</th>\n",
       "      <td>None</td>\n",
       "      <td>10.15363/thinklab.d21</td>\n",
       "      <td>None</td>\n",
       "      <td>17</td>\n",
       "      <td>2015-01-14T05:55:24.808111Z</td>\n",
       "      <td>How should we construct a catalog of drug indi...</td>\n",
       "      <td>Bioinformatics,Natural Language Processing,Ind...</td>\n",
       "      <td>/discussion/how-should-we-construct-a-catalog-...</td>\n",
       "      <td>313</td>\n",
       "    </tr>\n",
       "    <tr>\n",
       "      <th>1</th>\n",
       "      <td>None</td>\n",
       "      <td>10.15363/thinklab.d22</td>\n",
       "      <td>None</td>\n",
       "      <td>17</td>\n",
       "      <td>2015-01-16T00:46:28.770398Z</td>\n",
       "      <td>Suggestions for additional information types?</td>\n",
       "      <td>Bioinformatics,Chemoinformatics,Databases</td>\n",
       "      <td>/discussion/suggestions-for-additional-informa...</td>\n",
       "      <td>81</td>\n",
       "    </tr>\n",
       "  </tbody>\n",
       "</table>\n",
       "</div>"
      ],
      "text/plain": [
       "  document                    doi doi_field  profile  \\\n",
       "0     None  10.15363/thinklab.d21      None       17   \n",
       "1     None  10.15363/thinklab.d22      None       17   \n",
       "\n",
       "                     published  \\\n",
       "0  2015-01-14T05:55:24.808111Z   \n",
       "1  2015-01-16T00:46:28.770398Z   \n",
       "\n",
       "                                             subject  \\\n",
       "0  How should we construct a catalog of drug indi...   \n",
       "1      Suggestions for additional information types?   \n",
       "\n",
       "                                         topic_field  \\\n",
       "0  Bioinformatics,Natural Language Processing,Ind...   \n",
       "1          Bioinformatics,Chemoinformatics,Databases   \n",
       "\n",
       "                                                 url  views  \n",
       "0  /discussion/how-should-we-construct-a-catalog-...    313  \n",
       "1  /discussion/suggestions-for-additional-informa...     81  "
      ]
     },
     "execution_count": 6,
     "metadata": {},
     "output_type": "execute_result"
    }
   ],
   "source": [
    "thread_df = pandas.DataFrame(export['threads'])\n",
    "thread_df.head(2)"
   ]
  },
  {
   "cell_type": "code",
   "execution_count": 7,
   "metadata": {
    "collapsed": false
   },
   "outputs": [
    {
     "data": {
      "text/html": [
       "<div>\n",
       "<table border=\"1\" class=\"dataframe\">\n",
       "  <thead>\n",
       "    <tr style=\"text-align: right;\">\n",
       "      <th></th>\n",
       "      <th>body_html</th>\n",
       "      <th>body_md</th>\n",
       "      <th>profile</th>\n",
       "      <th>published</th>\n",
       "      <th>thread</th>\n",
       "      <th>url</th>\n",
       "    </tr>\n",
       "  </thead>\n",
       "  <tbody>\n",
       "    <tr>\n",
       "      <th>0</th>\n",
       "      <td>&lt;p&gt;We are looking to construct a catalog of &lt;a...</td>\n",
       "      <td>We are looking to construct a catalog of [indi...</td>\n",
       "      <td>17</td>\n",
       "      <td>2015-01-14T05:55:24.832895Z</td>\n",
       "      <td>21</td>\n",
       "      <td>/discussion/how-should-we-construct-a-catalog-...</td>\n",
       "    </tr>\n",
       "    <tr>\n",
       "      <th>1</th>\n",
       "      <td>&lt;p&gt;Are there any types of nodes or edges that ...</td>\n",
       "      <td>Are there any types of nodes or edges that you...</td>\n",
       "      <td>17</td>\n",
       "      <td>2015-01-16T00:46:28.796323Z</td>\n",
       "      <td>22</td>\n",
       "      <td>/discussion/suggestions-for-additional-informa...</td>\n",
       "    </tr>\n",
       "  </tbody>\n",
       "</table>\n",
       "</div>"
      ],
      "text/plain": [
       "                                           body_html  \\\n",
       "0  <p>We are looking to construct a catalog of <a...   \n",
       "1  <p>Are there any types of nodes or edges that ...   \n",
       "\n",
       "                                             body_md  profile  \\\n",
       "0  We are looking to construct a catalog of [indi...       17   \n",
       "1  Are there any types of nodes or edges that you...       17   \n",
       "\n",
       "                     published  thread  \\\n",
       "0  2015-01-14T05:55:24.832895Z      21   \n",
       "1  2015-01-16T00:46:28.796323Z      22   \n",
       "\n",
       "                                                 url  \n",
       "0  /discussion/how-should-we-construct-a-catalog-...  \n",
       "1  /discussion/suggestions-for-additional-informa...  "
      ]
     },
     "execution_count": 7,
     "metadata": {},
     "output_type": "execute_result"
    }
   ],
   "source": [
    "comment_df = pandas.DataFrame(export['comments'])\n",
    "comment_df.head(2)"
   ]
  },
  {
   "cell_type": "code",
   "execution_count": 8,
   "metadata": {
    "collapsed": false
   },
   "outputs": [
    {
     "data": {
      "text/html": [
       "<div>\n",
       "<table border=\"1\" class=\"dataframe\">\n",
       "  <thead>\n",
       "    <tr style=\"text-align: right;\">\n",
       "      <th></th>\n",
       "      <th>added</th>\n",
       "      <th>body_html</th>\n",
       "      <th>body_md</th>\n",
       "      <th>comment</th>\n",
       "      <th>profile</th>\n",
       "      <th>url</th>\n",
       "    </tr>\n",
       "  </thead>\n",
       "  <tbody>\n",
       "    <tr>\n",
       "      <th>0</th>\n",
       "      <td>2015-01-23T05:05:37.375664Z</td>\n",
       "      <td>&lt;p&gt;I don't see the \"attached reference\". Can y...</td>\n",
       "      <td>I don't see the \"attached reference\". Can you ...</td>\n",
       "      <td>38</td>\n",
       "      <td>17</td>\n",
       "      <td>/discussion/seeking-an-open-source-implementat...</td>\n",
       "    </tr>\n",
       "    <tr>\n",
       "      <th>1</th>\n",
       "      <td>2015-01-23T19:27:36.905732Z</td>\n",
       "      <td>&lt;p&gt;I'm talking about the reference you provide...</td>\n",
       "      <td>I'm talking about the reference you provided, ...</td>\n",
       "      <td>38</td>\n",
       "      <td>23</td>\n",
       "      <td>/discussion/seeking-an-open-source-implementat...</td>\n",
       "    </tr>\n",
       "  </tbody>\n",
       "</table>\n",
       "</div>"
      ],
      "text/plain": [
       "                         added  \\\n",
       "0  2015-01-23T05:05:37.375664Z   \n",
       "1  2015-01-23T19:27:36.905732Z   \n",
       "\n",
       "                                           body_html  \\\n",
       "0  <p>I don't see the \"attached reference\". Can y...   \n",
       "1  <p>I'm talking about the reference you provide...   \n",
       "\n",
       "                                             body_md  comment  profile  \\\n",
       "0  I don't see the \"attached reference\". Can you ...       38       17   \n",
       "1  I'm talking about the reference you provided, ...       38       23   \n",
       "\n",
       "                                                 url  \n",
       "0  /discussion/seeking-an-open-source-implementat...  \n",
       "1  /discussion/seeking-an-open-source-implementat...  "
      ]
     },
     "execution_count": 8,
     "metadata": {},
     "output_type": "execute_result"
    }
   ],
   "source": [
    "note_df = pandas.DataFrame(export['notes'])\n",
    "note_df.head(2)"
   ]
  },
  {
   "cell_type": "code",
   "execution_count": 9,
   "metadata": {
    "collapsed": false
   },
   "outputs": [],
   "source": [
    "comments = list(comment_df.body_md)\n",
    "notes = list(note_df.body_md)"
   ]
  },
  {
   "cell_type": "markdown",
   "metadata": {},
   "source": [
    "# Analyzing discussions"
   ]
  },
  {
   "cell_type": "markdown",
   "metadata": {},
   "source": [
    "## Extract citations in comments"
   ]
  },
  {
   "cell_type": "code",
   "execution_count": 10,
   "metadata": {
    "collapsed": false
   },
   "outputs": [],
   "source": [
    "pattern = re.compile(r'\\[(@10\\..+?)\\]')\n",
    "dois = set()\n",
    "for content in comments + notes:\n",
    "    for match in re.findall(pattern, content):\n",
    "        for doi in match.split(' '):\n",
    "            if not doi.startswith('@10.'):\n",
    "                continue\n",
    "            doi = doi.lstrip('@')\n",
    "            dois.add(doi)\n",
    "\n",
    "dois = sorted(dois)"
   ]
  },
  {
   "cell_type": "code",
   "execution_count": 11,
   "metadata": {
    "collapsed": false
   },
   "outputs": [
    {
     "data": {
      "text/plain": [
       "['10.1001/jama.1994.03510380059038',\n",
       " '10.1001/jama.271.14.1103',\n",
       " '10.1002/0470114754',\n",
       " '10.1002/0471142905.hg1011s57',\n",
       " '10.1002/14651858.CD003256.pub2']"
      ]
     },
     "execution_count": 11,
     "metadata": {},
     "output_type": "execute_result"
    }
   ],
   "source": [
    "# Example DOIs\n",
    "dois[:5]"
   ]
  },
  {
   "cell_type": "code",
   "execution_count": 12,
   "metadata": {
    "collapsed": false
   },
   "outputs": [
    {
     "data": {
      "text/plain": [
       "270"
      ]
     },
     "execution_count": 12,
     "metadata": {},
     "output_type": "execute_result"
    }
   ],
   "source": [
    "# Number of DOIs cited in discussions\n",
    "len(dois)"
   ]
  },
  {
   "cell_type": "code",
   "execution_count": 13,
   "metadata": {
    "collapsed": false
   },
   "outputs": [
    {
     "data": {
      "text/plain": [
       "42"
      ]
     },
     "execution_count": 13,
     "metadata": {},
     "output_type": "execute_result"
    }
   ],
   "source": [
    "# DOI registrants\n",
    "registrants = sorted(set(doi.split('/', 1)[0][3:] for doi in dois))\n",
    "len(registrants)"
   ]
  },
  {
   "cell_type": "code",
   "execution_count": 14,
   "metadata": {
    "collapsed": false
   },
   "outputs": [
    {
     "data": {
      "text/plain": [
       "['1001', '1002', '1007', '1016', '1021']"
      ]
     },
     "execution_count": 14,
     "metadata": {},
     "output_type": "execute_result"
    }
   ],
   "source": [
    "# Example DOI registrants\n",
    "registrants[:5]"
   ]
  },
  {
   "cell_type": "markdown",
   "metadata": {},
   "source": [
    "## Participation"
   ]
  },
  {
   "cell_type": "code",
   "execution_count": 15,
   "metadata": {
    "collapsed": false
   },
   "outputs": [
    {
     "data": {
      "text/plain": [
       "40"
      ]
     },
     "execution_count": 15,
     "metadata": {},
     "output_type": "execute_result"
    }
   ],
   "source": [
    "# Number of commentors\n",
    "comment_df.profile.nunique()"
   ]
  },
  {
   "cell_type": "code",
   "execution_count": 16,
   "metadata": {
    "collapsed": false
   },
   "outputs": [
    {
     "data": {
      "text/plain": [
       "424"
      ]
     },
     "execution_count": 16,
     "metadata": {},
     "output_type": "execute_result"
    }
   ],
   "source": [
    "# Number of comments\n",
    "len(comments)"
   ]
  },
  {
   "cell_type": "code",
   "execution_count": 17,
   "metadata": {
    "collapsed": false
   },
   "outputs": [
    {
     "data": {
      "text/plain": [
       "144"
      ]
     },
     "execution_count": 17,
     "metadata": {},
     "output_type": "execute_result"
    }
   ],
   "source": [
    "# Number of notes\n",
    "len(notes)"
   ]
  },
  {
   "cell_type": "markdown",
   "metadata": {},
   "source": [
    "## Number of characters"
   ]
  },
  {
   "cell_type": "code",
   "execution_count": 18,
   "metadata": {
    "collapsed": false
   },
   "outputs": [
    {
     "name": "stdout",
     "output_type": "stream",
     "text": [
      "694,254 characters in discussions\n"
     ]
    }
   ],
   "source": [
    "characters = sum(len(content.replace('\\r\\n', '\\n')) for content in comments + notes)\n",
    "print('{:,} characters in discussions'.format(characters))"
   ]
  },
  {
   "cell_type": "markdown",
   "metadata": {},
   "source": [
    "## Word count"
   ]
  },
  {
   "cell_type": "code",
   "execution_count": 19,
   "metadata": {
    "collapsed": false
   },
   "outputs": [],
   "source": [
    "import collections\n",
    "\n",
    "words = collections.Counter()\n",
    "for text in comments + notes:\n",
    "    for word in text.split():\n",
    "        word = word.lower()\n",
    "        if len(word) == 1 and word != 'i':\n",
    "            continue\n",
    "        words[word] += 1"
   ]
  },
  {
   "cell_type": "code",
   "execution_count": 20,
   "metadata": {
    "collapsed": false
   },
   "outputs": [
    {
     "name": "stdout",
     "output_type": "stream",
     "text": [
      "83,546 words in discussions equating to ~13.92 academic articles\n"
     ]
    }
   ],
   "source": [
    "total_words = sum(words.values())\n",
    "print('{:,} words in discussions equating to ~{:.2f} academic articles'.format(total_words, total_words / 6000))"
   ]
  },
  {
   "cell_type": "code",
   "execution_count": 21,
   "metadata": {
    "collapsed": false
   },
   "outputs": [
    {
     "data": {
      "text/plain": [
       "[('the', 4171), ('to', 2161), ('of', 1993), ('and', 1549), ('for', 1239)]"
      ]
     },
     "execution_count": 21,
     "metadata": {},
     "output_type": "execute_result"
    }
   ],
   "source": [
    "words.most_common(5)"
   ]
  }
 ],
 "metadata": {
  "kernelspec": {
   "display_name": "Python 3",
   "language": "python",
   "name": "python3"
  },
  "language_info": {
   "codemirror_mode": {
    "name": "ipython",
    "version": 3
   },
   "file_extension": ".py",
   "mimetype": "text/x-python",
   "name": "python",
   "nbconvert_exporter": "python",
   "pygments_lexer": "ipython3",
   "version": "3.5.1"
  }
 },
 "nbformat": 4,
 "nbformat_minor": 0
}
