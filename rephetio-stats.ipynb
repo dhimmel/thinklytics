{
 "cells": [
  {
   "cell_type": "markdown",
   "metadata": {},
   "source": [
    "# Stats for the Rephetio project"
   ]
  },
  {
   "cell_type": "code",
   "execution_count": 1,
   "metadata": {
    "collapsed": true
   },
   "outputs": [],
   "source": [
    "import json\n",
    "import export\n",
    "import re\n",
    "\n",
    "import pandas"
   ]
  },
  {
   "cell_type": "markdown",
   "metadata": {},
   "source": [
    "## Retrieve export\n",
    "\n",
    "Uncomment to download the Rephetio export from Thinklab"
   ]
  },
  {
   "cell_type": "code",
   "execution_count": 2,
   "metadata": {
    "collapsed": true
   },
   "outputs": [],
   "source": [
    "! python export.py --project rephetio --output export/rephetio.json"
   ]
  },
  {
   "cell_type": "markdown",
   "metadata": {},
   "source": [
    "## Process export"
   ]
  },
  {
   "cell_type": "code",
   "execution_count": 3,
   "metadata": {
    "collapsed": false
   },
   "outputs": [
    {
     "data": {
      "text/plain": [
       "'2016-04-11T22:19:53.722649Z'"
      ]
     },
     "execution_count": 3,
     "metadata": {},
     "output_type": "execute_result"
    }
   ],
   "source": [
    "with open('export/rephetio.json') as read_file:\n",
    "    export = json.load(read_file)\n",
    "export['retrieved']"
   ]
  },
  {
   "cell_type": "code",
   "execution_count": 4,
   "metadata": {
    "collapsed": false
   },
   "outputs": [
    {
     "data": {
      "text/plain": [
       "['comments', 'documents', 'notes', 'threads', 'profiles', 'retrieved']"
      ]
     },
     "execution_count": 4,
     "metadata": {},
     "output_type": "execute_result"
    }
   ],
   "source": [
    "list(export.keys())"
   ]
  },
  {
   "cell_type": "code",
   "execution_count": 22,
   "metadata": {
    "collapsed": false
   },
   "outputs": [
    {
     "data": {
      "text/html": [
       "<div>\n",
       "<table border=\"1\" class=\"dataframe\">\n",
       "  <thead>\n",
       "    <tr style=\"text-align: right;\">\n",
       "      <th></th>\n",
       "      <th>document</th>\n",
       "      <th>doi_field</th>\n",
       "      <th>profile</th>\n",
       "      <th>published</th>\n",
       "      <th>subject</th>\n",
       "      <th>topic_field</th>\n",
       "    </tr>\n",
       "  </thead>\n",
       "  <tbody>\n",
       "    <tr>\n",
       "      <th>0</th>\n",
       "      <td>None</td>\n",
       "      <td>None</td>\n",
       "      <td>17</td>\n",
       "      <td>2015-01-14T05:55:24.808Z</td>\n",
       "      <td>How should we construct a catalog of drug indi...</td>\n",
       "      <td>Bioinformatics,Natural Language Processing,Ind...</td>\n",
       "    </tr>\n",
       "    <tr>\n",
       "      <th>1</th>\n",
       "      <td>None</td>\n",
       "      <td>None</td>\n",
       "      <td>17</td>\n",
       "      <td>2015-01-16T00:46:28.770Z</td>\n",
       "      <td>Suggestions for additional information types?</td>\n",
       "      <td>Bioinformatics,Chemoinformatics,Databases</td>\n",
       "    </tr>\n",
       "  </tbody>\n",
       "</table>\n",
       "</div>"
      ],
      "text/plain": [
       "  document doi_field  profile                 published  \\\n",
       "0     None      None       17  2015-01-14T05:55:24.808Z   \n",
       "1     None      None       17  2015-01-16T00:46:28.770Z   \n",
       "\n",
       "                                             subject  \\\n",
       "0  How should we construct a catalog of drug indi...   \n",
       "1      Suggestions for additional information types?   \n",
       "\n",
       "                                         topic_field  \n",
       "0  Bioinformatics,Natural Language Processing,Ind...  \n",
       "1          Bioinformatics,Chemoinformatics,Databases  "
      ]
     },
     "execution_count": 22,
     "metadata": {},
     "output_type": "execute_result"
    }
   ],
   "source": [
    "thread_df = pandas.DataFrame([x['fields'] for x in export['threads']])\n",
    "thread_df.head(2)"
   ]
  },
  {
   "cell_type": "code",
   "execution_count": 24,
   "metadata": {
    "collapsed": false
   },
   "outputs": [
    {
     "data": {
      "text/plain": [
       "{'', '10.1093/nar/gkv1075', None}"
      ]
     },
     "execution_count": 24,
     "metadata": {},
     "output_type": "execute_result"
    }
   ],
   "source": [
    "set(thread_df.doi_field)"
   ]
  },
  {
   "cell_type": "code",
   "execution_count": 5,
   "metadata": {
    "collapsed": false
   },
   "outputs": [
    {
     "data": {
      "text/html": [
       "<div>\n",
       "<table border=\"1\" class=\"dataframe\">\n",
       "  <thead>\n",
       "    <tr style=\"text-align: right;\">\n",
       "      <th></th>\n",
       "      <th>body_html</th>\n",
       "      <th>body_md</th>\n",
       "      <th>profile</th>\n",
       "      <th>published</th>\n",
       "      <th>thread</th>\n",
       "    </tr>\n",
       "  </thead>\n",
       "  <tbody>\n",
       "    <tr>\n",
       "      <th>0</th>\n",
       "      <td>&lt;p&gt;We are looking to construct a catalog of &lt;a...</td>\n",
       "      <td>We are looking to construct a catalog of [indi...</td>\n",
       "      <td>17</td>\n",
       "      <td>2015-01-14T05:55:24.832Z</td>\n",
       "      <td>21</td>\n",
       "    </tr>\n",
       "    <tr>\n",
       "      <th>1</th>\n",
       "      <td>&lt;p&gt;Are there any types of nodes or edges that ...</td>\n",
       "      <td>Are there any types of nodes or edges that you...</td>\n",
       "      <td>17</td>\n",
       "      <td>2015-01-16T00:46:28.796Z</td>\n",
       "      <td>22</td>\n",
       "    </tr>\n",
       "  </tbody>\n",
       "</table>\n",
       "</div>"
      ],
      "text/plain": [
       "                                           body_html  \\\n",
       "0  <p>We are looking to construct a catalog of <a...   \n",
       "1  <p>Are there any types of nodes or edges that ...   \n",
       "\n",
       "                                             body_md  profile  \\\n",
       "0  We are looking to construct a catalog of [indi...       17   \n",
       "1  Are there any types of nodes or edges that you...       17   \n",
       "\n",
       "                  published  thread  \n",
       "0  2015-01-14T05:55:24.832Z      21  \n",
       "1  2015-01-16T00:46:28.796Z      22  "
      ]
     },
     "execution_count": 5,
     "metadata": {},
     "output_type": "execute_result"
    }
   ],
   "source": [
    "comment_df = pandas.DataFrame([x['fields'] for x in export['comments']])\n",
    "comment_df.head(2)"
   ]
  },
  {
   "cell_type": "code",
   "execution_count": 6,
   "metadata": {
    "collapsed": false
   },
   "outputs": [
    {
     "data": {
      "text/html": [
       "<div>\n",
       "<table border=\"1\" class=\"dataframe\">\n",
       "  <thead>\n",
       "    <tr style=\"text-align: right;\">\n",
       "      <th></th>\n",
       "      <th>added</th>\n",
       "      <th>body_html</th>\n",
       "      <th>body_md</th>\n",
       "      <th>comment</th>\n",
       "      <th>profile</th>\n",
       "    </tr>\n",
       "  </thead>\n",
       "  <tbody>\n",
       "    <tr>\n",
       "      <th>0</th>\n",
       "      <td>2015-01-23T05:05:37.375Z</td>\n",
       "      <td>&lt;p&gt;I don't see the \"attached reference\". Can y...</td>\n",
       "      <td>I don't see the \"attached reference\". Can you ...</td>\n",
       "      <td>38</td>\n",
       "      <td>17</td>\n",
       "    </tr>\n",
       "    <tr>\n",
       "      <th>1</th>\n",
       "      <td>2015-01-23T19:27:36.905Z</td>\n",
       "      <td>&lt;p&gt;I'm talking about the reference you provide...</td>\n",
       "      <td>I'm talking about the reference you provided, ...</td>\n",
       "      <td>38</td>\n",
       "      <td>23</td>\n",
       "    </tr>\n",
       "  </tbody>\n",
       "</table>\n",
       "</div>"
      ],
      "text/plain": [
       "                      added  \\\n",
       "0  2015-01-23T05:05:37.375Z   \n",
       "1  2015-01-23T19:27:36.905Z   \n",
       "\n",
       "                                           body_html  \\\n",
       "0  <p>I don't see the \"attached reference\". Can y...   \n",
       "1  <p>I'm talking about the reference you provide...   \n",
       "\n",
       "                                             body_md  comment  profile  \n",
       "0  I don't see the \"attached reference\". Can you ...       38       17  \n",
       "1  I'm talking about the reference you provided, ...       38       23  "
      ]
     },
     "execution_count": 6,
     "metadata": {},
     "output_type": "execute_result"
    }
   ],
   "source": [
    "note_df = pandas.DataFrame([x['fields'] for x in export['notes']])\n",
    "note_df.head(2)"
   ]
  },
  {
   "cell_type": "code",
   "execution_count": 7,
   "metadata": {
    "collapsed": false
   },
   "outputs": [],
   "source": [
    "comments = list(comment_df.body_md)\n",
    "notes = list(note_df.body_md)"
   ]
  },
  {
   "cell_type": "markdown",
   "metadata": {},
   "source": [
    "# Analyzing discussions"
   ]
  },
  {
   "cell_type": "markdown",
   "metadata": {},
   "source": [
    "## Extract citations in comments"
   ]
  },
  {
   "cell_type": "code",
   "execution_count": 8,
   "metadata": {
    "collapsed": false
   },
   "outputs": [],
   "source": [
    "pattern = re.compile(r'\\[(@10\\..+?)\\]')\n",
    "dois = set()\n",
    "for content in comments + notes:\n",
    "    for match in re.findall(pattern, content):\n",
    "        for doi in match.split(' '):\n",
    "            if not doi.startswith('@10.'):\n",
    "                continue\n",
    "            doi = doi.lstrip('@')\n",
    "            dois.add(doi)\n",
    "\n",
    "dois = sorted(dois)"
   ]
  },
  {
   "cell_type": "code",
   "execution_count": 9,
   "metadata": {
    "collapsed": false
   },
   "outputs": [
    {
     "data": {
      "text/plain": [
       "['10.1001/jama.1994.03510380059038',\n",
       " '10.1001/jama.271.14.1103',\n",
       " '10.1002/0471142905.hg1011s57',\n",
       " '10.1002/14651858.CD003256.pub2',\n",
       " '10.1002/asi.20438']"
      ]
     },
     "execution_count": 9,
     "metadata": {},
     "output_type": "execute_result"
    }
   ],
   "source": [
    "# Example DOIs\n",
    "dois[:5]"
   ]
  },
  {
   "cell_type": "code",
   "execution_count": 10,
   "metadata": {
    "collapsed": false
   },
   "outputs": [
    {
     "data": {
      "text/plain": [
       "248"
      ]
     },
     "execution_count": 10,
     "metadata": {},
     "output_type": "execute_result"
    }
   ],
   "source": [
    "# Number of DOIs cited in discussions\n",
    "len(dois)"
   ]
  },
  {
   "cell_type": "code",
   "execution_count": 11,
   "metadata": {
    "collapsed": false
   },
   "outputs": [
    {
     "data": {
      "text/plain": [
       "39"
      ]
     },
     "execution_count": 11,
     "metadata": {},
     "output_type": "execute_result"
    }
   ],
   "source": [
    "# DOI registrants\n",
    "registrants = sorted(set(doi.split('/', 1)[0][3:] for doi in dois))\n",
    "len(registrants)"
   ]
  },
  {
   "cell_type": "code",
   "execution_count": 12,
   "metadata": {
    "collapsed": false
   },
   "outputs": [
    {
     "data": {
      "text/plain": [
       "['1001', '1002', '1007', '1016', '1021']"
      ]
     },
     "execution_count": 12,
     "metadata": {},
     "output_type": "execute_result"
    }
   ],
   "source": [
    "# Example DOI registrants\n",
    "registrants[:5]"
   ]
  },
  {
   "cell_type": "markdown",
   "metadata": {},
   "source": [
    "## Participation"
   ]
  },
  {
   "cell_type": "code",
   "execution_count": 13,
   "metadata": {
    "collapsed": false
   },
   "outputs": [
    {
     "data": {
      "text/plain": [
       "40"
      ]
     },
     "execution_count": 13,
     "metadata": {},
     "output_type": "execute_result"
    }
   ],
   "source": [
    "# Number of commentors\n",
    "comment_df.profile.nunique()"
   ]
  },
  {
   "cell_type": "code",
   "execution_count": 14,
   "metadata": {
    "collapsed": false
   },
   "outputs": [
    {
     "data": {
      "text/plain": [
       "403"
      ]
     },
     "execution_count": 14,
     "metadata": {},
     "output_type": "execute_result"
    }
   ],
   "source": [
    "# Number of comments\n",
    "len(comments)"
   ]
  },
  {
   "cell_type": "code",
   "execution_count": 15,
   "metadata": {
    "collapsed": false
   },
   "outputs": [
    {
     "data": {
      "text/plain": [
       "133"
      ]
     },
     "execution_count": 15,
     "metadata": {},
     "output_type": "execute_result"
    }
   ],
   "source": [
    "# Number of notes\n",
    "len(notes)"
   ]
  },
  {
   "cell_type": "markdown",
   "metadata": {},
   "source": [
    "## Number of characters"
   ]
  },
  {
   "cell_type": "code",
   "execution_count": 16,
   "metadata": {
    "collapsed": false
   },
   "outputs": [
    {
     "name": "stdout",
     "output_type": "stream",
     "text": [
      "662,501 characters in discussions\n"
     ]
    }
   ],
   "source": [
    "characters = sum(len(content.replace('\\r\\n', '\\n')) for content in comments + notes)\n",
    "print('{:,} characters in discussions'.format(characters))"
   ]
  },
  {
   "cell_type": "markdown",
   "metadata": {},
   "source": [
    "## Word count"
   ]
  },
  {
   "cell_type": "code",
   "execution_count": 32,
   "metadata": {
    "collapsed": false
   },
   "outputs": [],
   "source": [
    "import collections\n",
    "\n",
    "words = collections.Counter()\n",
    "for text in comments + notes:\n",
    "    for word in text.split():\n",
    "        word = word.lower()\n",
    "        if len(word) == 1 and word != 'i':\n",
    "            continue\n",
    "        words[word] += 1"
   ]
  },
  {
   "cell_type": "code",
   "execution_count": 42,
   "metadata": {
    "collapsed": false
   },
   "outputs": [
    {
     "name": "stdout",
     "output_type": "stream",
     "text": [
      "79,781 words in discussions equating to ~13.30 academic articles\n"
     ]
    }
   ],
   "source": [
    "total_words = sum(words.values())\n",
    "print('{:,} words in discussions equating to ~{:.2f} academic articles'.format(total_words, total_words / 6000))"
   ]
  },
  {
   "cell_type": "code",
   "execution_count": 36,
   "metadata": {
    "collapsed": false
   },
   "outputs": [
    {
     "data": {
      "text/plain": [
       "[('the', 3929), ('to', 2064), ('of', 1893), ('and', 1483), ('for', 1178)]"
      ]
     },
     "execution_count": 36,
     "metadata": {},
     "output_type": "execute_result"
    }
   ],
   "source": [
    "words.most_common(5)"
   ]
  }
 ],
 "metadata": {
  "kernelspec": {
   "display_name": "Python 3",
   "language": "python",
   "name": "python3"
  },
  "language_info": {
   "codemirror_mode": {
    "name": "ipython",
    "version": 3
   },
   "file_extension": ".py",
   "mimetype": "text/x-python",
   "name": "python",
   "nbconvert_exporter": "python",
   "pygments_lexer": "ipython3",
   "version": "3.5.1"
  }
 },
 "nbformat": 4,
 "nbformat_minor": 0
}
